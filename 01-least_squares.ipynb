{
 "cells": [
  {
   "cell_type": "code",
   "execution_count": 1,
   "metadata": {},
   "outputs": [],
   "source": [
    "import numpy as np"
   ]
  },
  {
   "cell_type": "code",
   "execution_count": 4,
   "metadata": {},
   "outputs": [],
   "source": [
    "# Load data\n",
    "X = np.array([1, 2, 3, 4, 5]) # Years 2001, 2, 3, 4, 5\n",
    "y = np.array([0.125, 0.470, 1.451, 8.263, 31.960]) # Sales of iPods in millions of units"
   ]
  },
  {
   "attachments": {},
   "cell_type": "markdown",
   "metadata": {},
   "source": [
    "Given data points $(x_1, y_1,), ..., (x_n, y_n)$ that approximately lie on an unknown line $y = ax + b$, find the line."
   ]
  },
  {
   "attachments": {},
   "cell_type": "markdown",
   "metadata": {},
   "source": [
    "Given a candidate line $y = ax + b$, how do we measure how good of an approximation it is? For each input $x_i$ the line predicts an output of $ax_i + b$, but the actual output was $y_i$, so the error in the prediction is $|y_i - (ax_i +b)|$. Then the total error from all the data points would be $$\\sum_{i=1}^{n} |y_i - (ax_i + b)|$$ and we want to find $a$, $b$ that make this small. Because of the absolute values, the partial derivatives of this function do not exist everywhere, which complicates the minimization problem, so instead we try to minimize the sum of the squares of the errors. $$D := \\sum_{i=1}^{n} (y_i - (ax_i + b))^2$$ The minimum occurs where $\\frac{\\partial D}{\\partial a}$ and $\\frac{\\partial D}{\\partial b}$ are both $0$. Using the chain rule: $$\\frac{\\partial D}{\\partial a} = \\sum_{i=1}^{n} 2(y_i - (ax_i + b))(-x_i) = 0$$ $$\\frac{\\partial D}{\\partial b} = \\sum_{i=1}^{n} 2(y_i - (ax_i + b))(-1) = 0$$ Solving for $a$ and $b$ gives the best line."
   ]
  },
  {
   "cell_type": "code",
   "execution_count": 5,
   "metadata": {},
   "outputs": [
    {
     "data": {
      "text/plain": [
       "15.0"
      ]
     },
     "execution_count": 5,
     "metadata": {},
     "output_type": "execute_result"
    }
   ],
   "source": [
    "np.dot(X, np.ones(5))"
   ]
  },
  {
   "cell_type": "code",
   "execution_count": null,
   "metadata": {},
   "outputs": [],
   "source": []
  }
 ],
 "metadata": {
  "kernelspec": {
   "display_name": "Python 3",
   "language": "python",
   "name": "python3"
  },
  "language_info": {
   "codemirror_mode": {
    "name": "ipython",
    "version": 3
   },
   "file_extension": ".py",
   "mimetype": "text/x-python",
   "name": "python",
   "nbconvert_exporter": "python",
   "pygments_lexer": "ipython3",
   "version": "3.9.16"
  },
  "orig_nbformat": 4,
  "vscode": {
   "interpreter": {
    "hash": "ac2eaa0ea0ebeafcc7822e65e46aa9d4f966f30b695406963e145ea4a91cd4fc"
   }
  }
 },
 "nbformat": 4,
 "nbformat_minor": 2
}
