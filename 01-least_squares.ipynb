{
 "cells": [
  {
   "cell_type": "code",
   "execution_count": 2,
   "metadata": {},
   "outputs": [],
   "source": [
    "import numpy as np\n",
    "import matplotlib.pyplot as plt"
   ]
  },
  {
   "cell_type": "code",
   "execution_count": 3,
   "metadata": {},
   "outputs": [],
   "source": [
    "# Load data\n",
    "X = np.array([1, 2, 3, 4, 5]) # Years 2001, 2, 3, 4, 5\n",
    "y = np.array([0.125, 0.470, 1.451, 8.263, 31.960]) # Sales of iPods in millions of units"
   ]
  },
  {
   "attachments": {},
   "cell_type": "markdown",
   "metadata": {},
   "source": [
    "Given data points $(x_1, y_1,), ..., (x_n, y_n)$ that approximately lie on an unknown line $y = ax + b$, find the line."
   ]
  },
  {
   "attachments": {},
   "cell_type": "markdown",
   "metadata": {},
   "source": [
    "Given a candidate line $y = ax + b$, how do we measure how good of an approximation it is? For each input $x_i$ the line predicts an output of $ax_i + b$, but the actual output was $y_i$, so the error in the prediction is $|y_i - (ax_i +b)|$. Then the total error from all the data points would be $$\\sum_{i=1}^{n} |y_i - (ax_i + b)|$$ and we want to find $a$, $b$ that make this small. Because of the absolute values, the partial derivatives of this function do not exist everywhere, which complicates the minimization problem, so instead we try to minimize the sum of the squares of the errors. $$D := \\sum_{i=1}^{n} (y_i - (ax_i + b))^2$$ The minimum occurs where $\\frac{\\partial D}{\\partial a}$ and $\\frac{\\partial D}{\\partial b}$ are both $0$. Using the chain rule: $$\\frac{\\partial D}{\\partial a} = \\sum_{i=1}^{n} 2(y_i - (ax_i + b))(-x_i) = 0$$ $$\\frac{\\partial D}{\\partial b} = \\sum_{i=1}^{n} 2(y_i - (ax_i + b))(-1) = 0$$ Solving for $a$ and $b$ gives the best line. After collecting terms and cancelling the 2s: $$\\left(\\sum x^2_i \\right) a + \\left(\\sum x_i \\right) b = \\sum x_i y_i$$ $$\\left(\\sum x_i \\right) a + nb = \\sum y_i.$$"
   ]
  },
  {
   "cell_type": "code",
   "execution_count": 14,
   "metadata": {},
   "outputs": [],
   "source": [
    "A = np.array([[np.dot(X * X, np.ones(X.shape[0])), np.dot(X, np.ones(X.shape[0]))],\n",
    "              [np.dot(X, np.ones(X.shape[0])), X.shape[0]]])\n",
    "c = np.array([np.dot(X*y, np.ones(X.shape[0])), np.dot(y, np.ones(X.shape[0]))])\n",
    "\n",
    "# Solve Ax = c by calculating A^-1 c\n",
    "a, b = np.linalg.inv(A) @ c\n",
    "\n",
    "# Calculate predicted point with (a X) + b\n",
    "y_pred = (a * X) + b"
   ]
  },
  {
   "cell_type": "code",
   "execution_count": 15,
   "metadata": {},
   "outputs": [
    {
     "data": {
      "text/plain": [
       "Text(0.5, 1.0, 'iPod Sales')"
      ]
     },
     "execution_count": 15,
     "metadata": {},
     "output_type": "execute_result"
    },
    {
     "data": {
      "image/png": "[encoded data removed]",
      "text/plain": [
       "<Figure size 432x288 with 1 Axes>"
      ]
     },
     "metadata": {
      "needs_background": "light"
     },
     "output_type": "display_data"
    }
   ],
   "source": [
    "# Plot the original line chart\n",
    "plt.scatter(X, y, label='Data Points')\n",
    "\n",
    "# Plot the function on top of it\n",
    "plt.plot(X, y_pred, linestyle='--')\n",
    "\n",
    "plt.xticks(X, ['2001', '2002', '2003', '2004', '2005'])\n",
    "\n",
    "# Add labels and title\n",
    "plt.xlabel('Year')\n",
    "plt.ylabel('iPod sales (in MM units)')\n",
    "plt.title('iPod Sales')"
   ]
  },
  {
   "attachments": {},
   "cell_type": "markdown",
   "metadata": {},
   "source": [
    "It seems that the relationship between the data points is not linear, but exponential. So let's find the best fit for the logarithmic function $$ln(y) = a_1 x + b_1$$ After fitting it, transform $ln(y)$ into $y$ by exponentiating, you get $$y = e^{b} e^{ax}$$"
   ]
  },
  {
   "cell_type": "code",
   "execution_count": 26,
   "metadata": {},
   "outputs": [],
   "source": [
    "# Solve Ax = d, sustitute y by ln(y)\n",
    "d = np.array([np.dot(X*np.log(y), np.ones(X.shape[0])), np.dot(np.log(y), np.ones(X.shape[0]))])\n",
    "\n",
    "# Solve Ax = d by calculating A^-1 d\n",
    "a, b = np.linalg.inv(A) @ d\n",
    "\n",
    "# Calculate predicted point\n",
    "y_pred = np.exp(b) * np.exp(a * X)"
   ]
  },
  {
   "cell_type": "code",
   "execution_count": 28,
   "metadata": {},
   "outputs": [
    {
     "data": {
      "text/plain": [
       "Text(0.5, 1.0, 'iPod Sales')"
      ]
     },
     "execution_count": 28,
     "metadata": {},
     "output_type": "execute_result"
    },
    {
     "data": {
      "image/png": "[encoded data removed]",
      "text/plain": [
       "<Figure size 432x288 with 1 Axes>"
      ]
     },
     "metadata": {
      "needs_background": "light"
     },
     "output_type": "display_data"
    }
   ],
   "source": [
    "# Plot the original line chart\n",
    "plt.scatter(X, y, label='Data Points')\n",
    "\n",
    "# Plot the function on top of it\n",
    "plt.plot(X, y_pred, linestyle='--')\n",
    "\n",
    "plt.xticks(X, ['2001', '2002', '2003', '2004', '2005'])\n",
    "\n",
    "# Add labels and title\n",
    "plt.xlabel('Year')\n",
    "plt.ylabel('iPod sales (in MM units)')\n",
    "plt.title('iPod Sales')"
   ]
  },
  {
   "attachments": {},
   "cell_type": "markdown",
   "metadata": {},
   "source": [
    "How many are iPods are predicted to be sold in 2006? How many in 2015?"
   ]
  },
  {
   "cell_type": "code",
   "execution_count": 35,
   "metadata": {},
   "outputs": [
    {
     "name": "stdout",
     "output_type": "stream",
     "text": [
      "122.63487263849593\n"
     ]
    }
   ],
   "source": [
    "y_pred = np.exp(b) * np.exp(a * 6)\n",
    "print(y_pred)"
   ]
  },
  {
   "cell_type": "code",
   "execution_count": 36,
   "metadata": {},
   "outputs": [
    {
     "name": "stdout",
     "output_type": "stream",
     "text": [
      "34914357.417455465\n"
     ]
    }
   ],
   "source": [
    "y_pred = np.exp(b) * np.exp(a * 15)\n",
    "print(y_pred)"
   ]
  }
 ],
 "metadata": {
  "kernelspec": {
   "display_name": "Python 3",
   "language": "python",
   "name": "python3"
  },
  "language_info": {
   "codemirror_mode": {
    "name": "ipython",
    "version": 3
   },
   "file_extension": ".py",
   "mimetype": "text/x-python",
   "name": "python",
   "nbconvert_exporter": "python",
   "pygments_lexer": "ipython3",
   "version": "3.9.16"
  },
  "orig_nbformat": 4,
  "vscode": {
   "interpreter": {
    "hash": "ac2eaa0ea0ebeafcc7822e65e46aa9d4f966f30b695406963e145ea4a91cd4fc"
   }
  }
 },
 "nbformat": 4,
 "nbformat_minor": 2
}
